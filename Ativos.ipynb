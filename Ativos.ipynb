{
 "cells": [
  {
   "cell_type": "markdown",
   "id": "41a609c2-5a59-47ee-b4dd-9be3596a5fb9",
   "metadata": {},
   "source": [
    "# Correlação de ativos"
   ]
  },
  {
   "cell_type": "markdown",
   "id": "281834d8-842b-4a11-b296-62fb36be5c17",
   "metadata": {},
   "source": [
    "Este projeto tem o intuito de avaliar as correlações de diferentes ativos em uma data específica"
   ]
  },
  {
   "cell_type": "markdown",
   "id": "62689686-a497-4426-a22e-1996936dea5c",
   "metadata": {},
   "source": [
    "## Importar bibliotecas"
   ]
  },
  {
   "cell_type": "code",
   "execution_count": 15,
   "id": "ce01023a-c01a-462a-9685-913d9c76d9d3",
   "metadata": {},
   "outputs": [],
   "source": [
    "import pandas_datareader as pdr\n",
    "import yfinance as yf\n",
    "import investpy\n",
    "import pandas as pd\n",
    "from functools import reduce\n",
    "import seaborn as sns\n",
    "import matplotlib.pyplot as plt"
   ]
  },
  {
   "cell_type": "markdown",
   "id": "31bf46d8-58e1-4019-a5ed-c11ca65554f5",
   "metadata": {},
   "source": [
    "## Baixar os dados"
   ]
  },
  {
   "cell_type": "code",
   "execution_count": 8,
   "id": "c044e4da-b3df-470a-a641-0d16e6310b01",
   "metadata": {},
   "outputs": [],
   "source": [
    "acoes = ['PETR4.SA', 'WEGE3.SA', 'MGLU3.SA', 'VALE3.SA', 'BPAC11.SA']"
   ]
  },
  {
   "cell_type": "code",
   "execution_count": 17,
   "id": "0a92c3f8-653b-452b-9b56-d6f7bf34bd5b",
   "metadata": {},
   "outputs": [],
   "source": [
    "inicio = '2019-01-01'"
   ]
  },
  {
   "cell_type": "code",
   "execution_count": 68,
   "id": "d0a7d703-d905-49b3-bbd4-886e198af527",
   "metadata": {},
   "outputs": [],
   "source": [
    "precos_acoes = pd.DataFrame()\n",
    "\n",
    "for acao in acoes:\n",
    "    precos_acoes[acao] = pdr.data.get_data_yahoo(acao, start=inicio)['Adj Close']"
   ]
  },
  {
   "cell_type": "code",
   "execution_count": 70,
   "id": "e1e09674-fdf4-4969-a167-6ae01c8b7611",
   "metadata": {},
   "outputs": [
    {
     "data": {
      "text/html": [
       "<div>\n",
       "<style scoped>\n",
       "    .dataframe tbody tr th:only-of-type {\n",
       "        vertical-align: middle;\n",
       "    }\n",
       "\n",
       "    .dataframe tbody tr th {\n",
       "        vertical-align: top;\n",
       "    }\n",
       "\n",
       "    .dataframe thead th {\n",
       "        text-align: right;\n",
       "    }\n",
       "</style>\n",
       "<table border=\"1\" class=\"dataframe\">\n",
       "  <thead>\n",
       "    <tr style=\"text-align: right;\">\n",
       "      <th></th>\n",
       "      <th>PETR4.SA</th>\n",
       "      <th>WEGE3.SA</th>\n",
       "      <th>MGLU3.SA</th>\n",
       "      <th>VALE3.SA</th>\n",
       "      <th>BPAC11.SA</th>\n",
       "    </tr>\n",
       "    <tr>\n",
       "      <th>Date</th>\n",
       "      <th></th>\n",
       "      <th></th>\n",
       "      <th></th>\n",
       "      <th></th>\n",
       "      <th></th>\n",
       "    </tr>\n",
       "  </thead>\n",
       "  <tbody>\n",
       "    <tr>\n",
       "      <th>2019-01-02</th>\n",
       "      <td>21.260366</td>\n",
       "      <td>8.693207</td>\n",
       "      <td>5.641579</td>\n",
       "      <td>44.829338</td>\n",
       "      <td>5.837516</td>\n",
       "    </tr>\n",
       "    <tr>\n",
       "      <th>2019-01-03</th>\n",
       "      <td>21.781713</td>\n",
       "      <td>8.891438</td>\n",
       "      <td>5.581216</td>\n",
       "      <td>42.995453</td>\n",
       "      <td>6.078988</td>\n",
       "    </tr>\n",
       "    <tr>\n",
       "      <th>2019-01-04</th>\n",
       "      <td>21.843567</td>\n",
       "      <td>8.992972</td>\n",
       "      <td>5.411354</td>\n",
       "      <td>45.794544</td>\n",
       "      <td>6.294671</td>\n",
       "    </tr>\n",
       "    <tr>\n",
       "      <th>2019-01-07</th>\n",
       "      <td>22.188189</td>\n",
       "      <td>8.852759</td>\n",
       "      <td>5.495374</td>\n",
       "      <td>45.548859</td>\n",
       "      <td>6.423611</td>\n",
       "    </tr>\n",
       "    <tr>\n",
       "      <th>2019-01-08</th>\n",
       "      <td>22.055641</td>\n",
       "      <td>8.780235</td>\n",
       "      <td>5.451088</td>\n",
       "      <td>45.987583</td>\n",
       "      <td>6.303992</td>\n",
       "    </tr>\n",
       "  </tbody>\n",
       "</table>\n",
       "</div>"
      ],
      "text/plain": [
       "             PETR4.SA  WEGE3.SA  MGLU3.SA   VALE3.SA  BPAC11.SA\n",
       "Date                                                           \n",
       "2019-01-02  21.260366  8.693207  5.641579  44.829338   5.837516\n",
       "2019-01-03  21.781713  8.891438  5.581216  42.995453   6.078988\n",
       "2019-01-04  21.843567  8.992972  5.411354  45.794544   6.294671\n",
       "2019-01-07  22.188189  8.852759  5.495374  45.548859   6.423611\n",
       "2019-01-08  22.055641  8.780235  5.451088  45.987583   6.303992"
      ]
     },
     "execution_count": 70,
     "metadata": {},
     "output_type": "execute_result"
    }
   ],
   "source": [
    "precos_acoes.head()"
   ]
  },
  {
   "cell_type": "markdown",
   "id": "0cb28226-eab1-49ff-832e-e4b7d55f82ce",
   "metadata": {},
   "source": [
    "## Importando dados de FIIs, ETFs e BDRs"
   ]
  },
  {
   "cell_type": "code",
   "execution_count": 19,
   "id": "375b030f-7e4d-4ed7-a67a-029d10bae763",
   "metadata": {},
   "outputs": [
    {
     "name": "stdout",
     "output_type": "stream",
     "text": [
      "[*********************100%***********************]  1 of 1 completed\n"
     ]
    }
   ],
   "source": [
    "petr = yf.download('PETR4.SA', start = inicio)"
   ]
  },
  {
   "cell_type": "code",
   "execution_count": 20,
   "id": "281b79ac-c034-49d9-bc49-4d7f2776601c",
   "metadata": {},
   "outputs": [
    {
     "data": {
      "text/html": [
       "<div>\n",
       "<style scoped>\n",
       "    .dataframe tbody tr th:only-of-type {\n",
       "        vertical-align: middle;\n",
       "    }\n",
       "\n",
       "    .dataframe tbody tr th {\n",
       "        vertical-align: top;\n",
       "    }\n",
       "\n",
       "    .dataframe thead th {\n",
       "        text-align: right;\n",
       "    }\n",
       "</style>\n",
       "<table border=\"1\" class=\"dataframe\">\n",
       "  <thead>\n",
       "    <tr style=\"text-align: right;\">\n",
       "      <th></th>\n",
       "      <th>Open</th>\n",
       "      <th>High</th>\n",
       "      <th>Low</th>\n",
       "      <th>Close</th>\n",
       "      <th>Adj Close</th>\n",
       "      <th>Volume</th>\n",
       "    </tr>\n",
       "    <tr>\n",
       "      <th>Date</th>\n",
       "      <th></th>\n",
       "      <th></th>\n",
       "      <th></th>\n",
       "      <th></th>\n",
       "      <th></th>\n",
       "      <th></th>\n",
       "    </tr>\n",
       "  </thead>\n",
       "  <tbody>\n",
       "    <tr>\n",
       "      <th>2019-01-02</th>\n",
       "      <td>22.549999</td>\n",
       "      <td>24.200001</td>\n",
       "      <td>22.280001</td>\n",
       "      <td>24.059999</td>\n",
       "      <td>21.260366</td>\n",
       "      <td>104534800</td>\n",
       "    </tr>\n",
       "    <tr>\n",
       "      <th>2019-01-03</th>\n",
       "      <td>23.959999</td>\n",
       "      <td>24.820000</td>\n",
       "      <td>23.799999</td>\n",
       "      <td>24.650000</td>\n",
       "      <td>21.781713</td>\n",
       "      <td>95206400</td>\n",
       "    </tr>\n",
       "    <tr>\n",
       "      <th>2019-01-04</th>\n",
       "      <td>24.850000</td>\n",
       "      <td>24.940001</td>\n",
       "      <td>24.469999</td>\n",
       "      <td>24.719999</td>\n",
       "      <td>21.843567</td>\n",
       "      <td>72119800</td>\n",
       "    </tr>\n",
       "    <tr>\n",
       "      <th>2019-01-07</th>\n",
       "      <td>24.850000</td>\n",
       "      <td>25.920000</td>\n",
       "      <td>24.700001</td>\n",
       "      <td>25.110001</td>\n",
       "      <td>22.188189</td>\n",
       "      <td>121711900</td>\n",
       "    </tr>\n",
       "    <tr>\n",
       "      <th>2019-01-08</th>\n",
       "      <td>25.400000</td>\n",
       "      <td>25.420000</td>\n",
       "      <td>24.770000</td>\n",
       "      <td>24.959999</td>\n",
       "      <td>22.055641</td>\n",
       "      <td>68761800</td>\n",
       "    </tr>\n",
       "  </tbody>\n",
       "</table>\n",
       "</div>"
      ],
      "text/plain": [
       "                 Open       High        Low      Close  Adj Close     Volume\n",
       "Date                                                                        \n",
       "2019-01-02  22.549999  24.200001  22.280001  24.059999  21.260366  104534800\n",
       "2019-01-03  23.959999  24.820000  23.799999  24.650000  21.781713   95206400\n",
       "2019-01-04  24.850000  24.940001  24.469999  24.719999  21.843567   72119800\n",
       "2019-01-07  24.850000  25.920000  24.700001  25.110001  22.188189  121711900\n",
       "2019-01-08  25.400000  25.420000  24.770000  24.959999  22.055641   68761800"
      ]
     },
     "execution_count": 20,
     "metadata": {},
     "output_type": "execute_result"
    }
   ],
   "source": [
    "petr.head()"
   ]
  },
  {
   "cell_type": "code",
   "execution_count": 26,
   "id": "888204d4-7f96-4047-9b17-0bacca9dddaf",
   "metadata": {},
   "outputs": [],
   "source": [
    "ativos = ['KNRI11.SA', 'ONEF11.SA', 'HCTR11.SA', 'HGLG11.SA', 'HGBS11.SA', 'IVVB11.SA', 'AAPL34.SA']"
   ]
  },
  {
   "cell_type": "code",
   "execution_count": 27,
   "id": "41fe1426-04aa-407d-818a-fa61cf3e6cf2",
   "metadata": {},
   "outputs": [
    {
     "name": "stdout",
     "output_type": "stream",
     "text": [
      "[*********************100%***********************]  1 of 1 completed\n",
      "[*********************100%***********************]  1 of 1 completed\n",
      "[*********************100%***********************]  1 of 1 completed\n",
      "[*********************100%***********************]  1 of 1 completed\n",
      "[*********************100%***********************]  1 of 1 completed\n",
      "[*********************100%***********************]  1 of 1 completed\n",
      "[*********************100%***********************]  1 of 1 completed\n"
     ]
    }
   ],
   "source": [
    "precos_ativos = pd.DataFrame()\n",
    "\n",
    "for ativo in ativos:\n",
    "    precos_ativos[ativo] = yf.download(ativo, start = inicio)['Adj Close']\n",
    "    "
   ]
  },
  {
   "cell_type": "markdown",
   "id": "9b54e9aa-b7b3-40f4-80e1-a678377c3936",
   "metadata": {},
   "source": [
    "## Importando dados de índices, commodities e criptomoedas"
   ]
  },
  {
   "cell_type": "markdown",
   "id": "6aa55a45-cee9-4f0f-8353-5631a6af8488",
   "metadata": {},
   "source": [
    "#### Índices"
   ]
  },
  {
   "cell_type": "code",
   "execution_count": 44,
   "id": "a7355858-d71e-454b-a29f-88c991a5f35f",
   "metadata": {},
   "outputs": [],
   "source": [
    "search_results = investpy.search_quotes(text = 'bvsp', products = ['indices'], countries = ['brazil'], n_results = 10)"
   ]
  },
  {
   "cell_type": "code",
   "execution_count": 45,
   "id": "721ab04e-632f-4f81-9f22-e43977e10e03",
   "metadata": {},
   "outputs": [
    {
     "name": "stdout",
     "output_type": "stream",
     "text": [
      "{\"id_\": 17920, \"name\": \"Bovespa\", \"symbol\": \"BVSP\", \"country\": \"brazil\", \"tag\": \"/indices/bovespa\", \"pair_type\": \"indices\", \"exchange\": \"BM&FBovespa\"}\n"
     ]
    }
   ],
   "source": [
    "for search_result in search_results[:1]:\n",
    "    print(search_result)"
   ]
  },
  {
   "cell_type": "code",
   "execution_count": 48,
   "id": "d4e1f042-08aa-4c53-9fbf-334fe2d43785",
   "metadata": {},
   "outputs": [
    {
     "data": {
      "text/html": [
       "<div>\n",
       "<style scoped>\n",
       "    .dataframe tbody tr th:only-of-type {\n",
       "        vertical-align: middle;\n",
       "    }\n",
       "\n",
       "    .dataframe tbody tr th {\n",
       "        vertical-align: top;\n",
       "    }\n",
       "\n",
       "    .dataframe thead th {\n",
       "        text-align: right;\n",
       "    }\n",
       "</style>\n",
       "<table border=\"1\" class=\"dataframe\">\n",
       "  <thead>\n",
       "    <tr style=\"text-align: right;\">\n",
       "      <th></th>\n",
       "      <th>Open</th>\n",
       "      <th>High</th>\n",
       "      <th>Low</th>\n",
       "      <th>Close</th>\n",
       "      <th>Volume</th>\n",
       "      <th>Change Pct</th>\n",
       "    </tr>\n",
       "    <tr>\n",
       "      <th>Date</th>\n",
       "      <th></th>\n",
       "      <th></th>\n",
       "      <th></th>\n",
       "      <th></th>\n",
       "      <th></th>\n",
       "      <th></th>\n",
       "    </tr>\n",
       "  </thead>\n",
       "  <tbody>\n",
       "    <tr>\n",
       "      <th>2019-01-02</th>\n",
       "      <td>87887.0</td>\n",
       "      <td>91479.0</td>\n",
       "      <td>87536.0</td>\n",
       "      <td>91012.0</td>\n",
       "      <td>5789071</td>\n",
       "      <td>3.56</td>\n",
       "    </tr>\n",
       "    <tr>\n",
       "      <th>2019-01-03</th>\n",
       "      <td>91011.0</td>\n",
       "      <td>91596.0</td>\n",
       "      <td>89922.0</td>\n",
       "      <td>91564.0</td>\n",
       "      <td>6253818</td>\n",
       "      <td>0.61</td>\n",
       "    </tr>\n",
       "    <tr>\n",
       "      <th>2019-01-04</th>\n",
       "      <td>91577.0</td>\n",
       "      <td>92701.0</td>\n",
       "      <td>90824.0</td>\n",
       "      <td>91841.0</td>\n",
       "      <td>5486725</td>\n",
       "      <td>0.30</td>\n",
       "    </tr>\n",
       "    <tr>\n",
       "      <th>2019-01-07</th>\n",
       "      <td>91845.0</td>\n",
       "      <td>92552.0</td>\n",
       "      <td>91288.0</td>\n",
       "      <td>91699.0</td>\n",
       "      <td>4706174</td>\n",
       "      <td>-0.15</td>\n",
       "    </tr>\n",
       "    <tr>\n",
       "      <th>2019-01-08</th>\n",
       "      <td>91699.0</td>\n",
       "      <td>92231.0</td>\n",
       "      <td>91064.0</td>\n",
       "      <td>92032.0</td>\n",
       "      <td>4635617</td>\n",
       "      <td>0.36</td>\n",
       "    </tr>\n",
       "  </tbody>\n",
       "</table>\n",
       "</div>"
      ],
      "text/plain": [
       "               Open     High      Low    Close   Volume  Change Pct\n",
       "Date                                                               \n",
       "2019-01-02  87887.0  91479.0  87536.0  91012.0  5789071        3.56\n",
       "2019-01-03  91011.0  91596.0  89922.0  91564.0  6253818        0.61\n",
       "2019-01-04  91577.0  92701.0  90824.0  91841.0  5486725        0.30\n",
       "2019-01-07  91845.0  92552.0  91288.0  91699.0  4706174       -0.15\n",
       "2019-01-08  91699.0  92231.0  91064.0  92032.0  4635617        0.36"
      ]
     },
     "execution_count": 48,
     "metadata": {},
     "output_type": "execute_result"
    }
   ],
   "source": [
    "ibov = search_result.retrieve_historical_data(from_date='01/01/2019', to_date='04/09/2021')\n",
    "ibov.head()"
   ]
  },
  {
   "cell_type": "code",
   "execution_count": 78,
   "id": "5992ecb5-6f71-4107-aeab-5eac321b449f",
   "metadata": {},
   "outputs": [],
   "source": [
    "ibov = pd.DataFrame(ibov.Close).rename(columns = {'Close': 'IBOV'})"
   ]
  },
  {
   "cell_type": "code",
   "execution_count": 35,
   "id": "896dcda2-850e-4c69-b621-5927f48e80eb",
   "metadata": {},
   "outputs": [
    {
     "data": {
      "text/html": [
       "<div>\n",
       "<style scoped>\n",
       "    .dataframe tbody tr th:only-of-type {\n",
       "        vertical-align: middle;\n",
       "    }\n",
       "\n",
       "    .dataframe tbody tr th {\n",
       "        vertical-align: top;\n",
       "    }\n",
       "\n",
       "    .dataframe thead th {\n",
       "        text-align: right;\n",
       "    }\n",
       "</style>\n",
       "<table border=\"1\" class=\"dataframe\">\n",
       "  <thead>\n",
       "    <tr style=\"text-align: right;\">\n",
       "      <th></th>\n",
       "      <th>IBOV</th>\n",
       "    </tr>\n",
       "    <tr>\n",
       "      <th>Date</th>\n",
       "      <th></th>\n",
       "    </tr>\n",
       "  </thead>\n",
       "  <tbody>\n",
       "    <tr>\n",
       "      <th>2019-01-02</th>\n",
       "      <td>91012.0</td>\n",
       "    </tr>\n",
       "    <tr>\n",
       "      <th>2019-01-03</th>\n",
       "      <td>91564.0</td>\n",
       "    </tr>\n",
       "    <tr>\n",
       "      <th>2019-01-04</th>\n",
       "      <td>91841.0</td>\n",
       "    </tr>\n",
       "    <tr>\n",
       "      <th>2019-01-07</th>\n",
       "      <td>91699.0</td>\n",
       "    </tr>\n",
       "    <tr>\n",
       "      <th>2019-01-08</th>\n",
       "      <td>92032.0</td>\n",
       "    </tr>\n",
       "  </tbody>\n",
       "</table>\n",
       "</div>"
      ],
      "text/plain": [
       "               IBOV\n",
       "Date               \n",
       "2019-01-02  91012.0\n",
       "2019-01-03  91564.0\n",
       "2019-01-04  91841.0\n",
       "2019-01-07  91699.0\n",
       "2019-01-08  92032.0"
      ]
     },
     "execution_count": 35,
     "metadata": {},
     "output_type": "execute_result"
    }
   ],
   "source": [
    "ibov.head()"
   ]
  },
  {
   "cell_type": "markdown",
   "id": "c73263c9-fda5-4571-8142-594b3f16b047",
   "metadata": {},
   "source": [
    "#### Commodities"
   ]
  },
  {
   "cell_type": "code",
   "execution_count": 39,
   "id": "f509c690-0240-4c8c-a48a-4dbd999fb372",
   "metadata": {},
   "outputs": [
    {
     "name": "stdout",
     "output_type": "stream",
     "text": [
      "{\"id_\": 964526, \"name\": \"Arabica Coffee 4/5 Futures\", \"symbol\": \"ICFc1\", \"country\": null, \"tag\": \"/commodities/arabica-coffee-4-5\", \"pair_type\": \"commodities\", \"exchange\": \"BM&FBovespa\"}\n"
     ]
    }
   ],
   "source": [
    "search_results_c = investpy.search_quotes(text = 'coffee', products = ['commodities'], countries = ['brazil'], n_results = 10)\n",
    "\n",
    "for search_result_c in search_results_c[:5]:\n",
    "    print(search_result_c)"
   ]
  },
  {
   "cell_type": "code",
   "execution_count": 51,
   "id": "a85c5779-0f07-4ad0-b195-e0cf5ba6f468",
   "metadata": {},
   "outputs": [],
   "source": [
    "cafe = search_result_c.retrieve_historical_data(from_date='01/01/2019', to_date='04/09/2021')"
   ]
  },
  {
   "cell_type": "code",
   "execution_count": 52,
   "id": "c26a2c2e-12b1-453b-bbb3-dd4205c2aa5a",
   "metadata": {},
   "outputs": [
    {
     "data": {
      "text/html": [
       "<div>\n",
       "<style scoped>\n",
       "    .dataframe tbody tr th:only-of-type {\n",
       "        vertical-align: middle;\n",
       "    }\n",
       "\n",
       "    .dataframe tbody tr th {\n",
       "        vertical-align: top;\n",
       "    }\n",
       "\n",
       "    .dataframe thead th {\n",
       "        text-align: right;\n",
       "    }\n",
       "</style>\n",
       "<table border=\"1\" class=\"dataframe\">\n",
       "  <thead>\n",
       "    <tr style=\"text-align: right;\">\n",
       "      <th></th>\n",
       "      <th>Open</th>\n",
       "      <th>High</th>\n",
       "      <th>Low</th>\n",
       "      <th>Close</th>\n",
       "      <th>Volume</th>\n",
       "      <th>Change Pct</th>\n",
       "    </tr>\n",
       "    <tr>\n",
       "      <th>Date</th>\n",
       "      <th></th>\n",
       "      <th></th>\n",
       "      <th></th>\n",
       "      <th></th>\n",
       "      <th></th>\n",
       "      <th></th>\n",
       "    </tr>\n",
       "  </thead>\n",
       "  <tbody>\n",
       "    <tr>\n",
       "      <th>2019-01-02</th>\n",
       "      <td>122.25</td>\n",
       "      <td>124.80</td>\n",
       "      <td>121.60</td>\n",
       "      <td>121.45</td>\n",
       "      <td>184</td>\n",
       "      <td>-0.57</td>\n",
       "    </tr>\n",
       "    <tr>\n",
       "      <th>2019-01-03</th>\n",
       "      <td>121.25</td>\n",
       "      <td>125.45</td>\n",
       "      <td>121.25</td>\n",
       "      <td>124.95</td>\n",
       "      <td>265</td>\n",
       "      <td>2.88</td>\n",
       "    </tr>\n",
       "    <tr>\n",
       "      <th>2019-01-04</th>\n",
       "      <td>124.00</td>\n",
       "      <td>125.40</td>\n",
       "      <td>122.35</td>\n",
       "      <td>124.20</td>\n",
       "      <td>372</td>\n",
       "      <td>-0.60</td>\n",
       "    </tr>\n",
       "    <tr>\n",
       "      <th>2019-01-07</th>\n",
       "      <td>123.50</td>\n",
       "      <td>125.00</td>\n",
       "      <td>123.50</td>\n",
       "      <td>124.35</td>\n",
       "      <td>245</td>\n",
       "      <td>0.12</td>\n",
       "    </tr>\n",
       "    <tr>\n",
       "      <th>2019-01-08</th>\n",
       "      <td>125.00</td>\n",
       "      <td>128.75</td>\n",
       "      <td>125.00</td>\n",
       "      <td>127.40</td>\n",
       "      <td>329</td>\n",
       "      <td>2.45</td>\n",
       "    </tr>\n",
       "  </tbody>\n",
       "</table>\n",
       "</div>"
      ],
      "text/plain": [
       "              Open    High     Low   Close  Volume  Change Pct\n",
       "Date                                                          \n",
       "2019-01-02  122.25  124.80  121.60  121.45     184       -0.57\n",
       "2019-01-03  121.25  125.45  121.25  124.95     265        2.88\n",
       "2019-01-04  124.00  125.40  122.35  124.20     372       -0.60\n",
       "2019-01-07  123.50  125.00  123.50  124.35     245        0.12\n",
       "2019-01-08  125.00  128.75  125.00  127.40     329        2.45"
      ]
     },
     "execution_count": 52,
     "metadata": {},
     "output_type": "execute_result"
    }
   ],
   "source": [
    "cafe.head()"
   ]
  },
  {
   "cell_type": "code",
   "execution_count": 53,
   "id": "b8c35c42-7d73-47cd-9c75-85e34c389306",
   "metadata": {},
   "outputs": [],
   "source": [
    "cafe = pd.DataFrame(cafe.Close).rename(columns = {'Close': 'Cafe'})"
   ]
  },
  {
   "cell_type": "markdown",
   "id": "3ea21f42-5347-4fce-b887-f3021de36712",
   "metadata": {},
   "source": [
    "#### Criptomoedas"
   ]
  },
  {
   "cell_type": "code",
   "execution_count": 54,
   "id": "342f3fbc-e0ae-40b1-b505-10b6e24f1fec",
   "metadata": {},
   "outputs": [],
   "source": [
    "bitcoin = investpy.get_crypto_historical_data(crypto = 'bitcoin', from_date='01/01/2019', to_date='04/09/2021')\n",
    "bitcoin = pd.DataFrame(bitcoin.Close).rename(columns = {'Close': 'Bitcoin'})"
   ]
  },
  {
   "cell_type": "code",
   "execution_count": 57,
   "id": "3f254f72-500e-4806-ab15-bb09aa78ae82",
   "metadata": {},
   "outputs": [
    {
     "data": {
      "text/html": [
       "<div>\n",
       "<style scoped>\n",
       "    .dataframe tbody tr th:only-of-type {\n",
       "        vertical-align: middle;\n",
       "    }\n",
       "\n",
       "    .dataframe tbody tr th {\n",
       "        vertical-align: top;\n",
       "    }\n",
       "\n",
       "    .dataframe thead th {\n",
       "        text-align: right;\n",
       "    }\n",
       "</style>\n",
       "<table border=\"1\" class=\"dataframe\">\n",
       "  <thead>\n",
       "    <tr style=\"text-align: right;\">\n",
       "      <th></th>\n",
       "      <th>Bitcoin</th>\n",
       "    </tr>\n",
       "    <tr>\n",
       "      <th>Date</th>\n",
       "      <th></th>\n",
       "    </tr>\n",
       "  </thead>\n",
       "  <tbody>\n",
       "    <tr>\n",
       "      <th>2019-01-01</th>\n",
       "      <td>3809.4</td>\n",
       "    </tr>\n",
       "    <tr>\n",
       "      <th>2019-01-02</th>\n",
       "      <td>3873.8</td>\n",
       "    </tr>\n",
       "    <tr>\n",
       "      <th>2019-01-03</th>\n",
       "      <td>3780.1</td>\n",
       "    </tr>\n",
       "    <tr>\n",
       "      <th>2019-01-04</th>\n",
       "      <td>3802.7</td>\n",
       "    </tr>\n",
       "    <tr>\n",
       "      <th>2019-01-05</th>\n",
       "      <td>3785.4</td>\n",
       "    </tr>\n",
       "  </tbody>\n",
       "</table>\n",
       "</div>"
      ],
      "text/plain": [
       "            Bitcoin\n",
       "Date               \n",
       "2019-01-01   3809.4\n",
       "2019-01-02   3873.8\n",
       "2019-01-03   3780.1\n",
       "2019-01-04   3802.7\n",
       "2019-01-05   3785.4"
      ]
     },
     "execution_count": 57,
     "metadata": {},
     "output_type": "execute_result"
    }
   ],
   "source": [
    "bitcoin.head()"
   ]
  },
  {
   "cell_type": "code",
   "execution_count": 58,
   "id": "bc524df4-e649-4a47-8892-e177614f521d",
   "metadata": {},
   "outputs": [],
   "source": [
    "ethereum = investpy.get_crypto_historical_data(crypto = 'ethereum', from_date='01/01/2019', to_date='04/09/2021')\n",
    "ethereum = pd.DataFrame(ethereum.Close).rename(columns = {'Close': 'Ethereum'})"
   ]
  },
  {
   "cell_type": "code",
   "execution_count": 59,
   "id": "468138a7-2326-4116-8c6c-5f0bbe02dc13",
   "metadata": {},
   "outputs": [
    {
     "data": {
      "text/html": [
       "<div>\n",
       "<style scoped>\n",
       "    .dataframe tbody tr th:only-of-type {\n",
       "        vertical-align: middle;\n",
       "    }\n",
       "\n",
       "    .dataframe tbody tr th {\n",
       "        vertical-align: top;\n",
       "    }\n",
       "\n",
       "    .dataframe thead th {\n",
       "        text-align: right;\n",
       "    }\n",
       "</style>\n",
       "<table border=\"1\" class=\"dataframe\">\n",
       "  <thead>\n",
       "    <tr style=\"text-align: right;\">\n",
       "      <th></th>\n",
       "      <th>Ethereum</th>\n",
       "    </tr>\n",
       "    <tr>\n",
       "      <th>Date</th>\n",
       "      <th></th>\n",
       "    </tr>\n",
       "  </thead>\n",
       "  <tbody>\n",
       "    <tr>\n",
       "      <th>2019-01-01</th>\n",
       "      <td>139.61</td>\n",
       "    </tr>\n",
       "    <tr>\n",
       "      <th>2019-01-02</th>\n",
       "      <td>152.95</td>\n",
       "    </tr>\n",
       "    <tr>\n",
       "      <th>2019-01-03</th>\n",
       "      <td>146.94</td>\n",
       "    </tr>\n",
       "    <tr>\n",
       "      <th>2019-01-04</th>\n",
       "      <td>152.86</td>\n",
       "    </tr>\n",
       "    <tr>\n",
       "      <th>2019-01-05</th>\n",
       "      <td>153.49</td>\n",
       "    </tr>\n",
       "  </tbody>\n",
       "</table>\n",
       "</div>"
      ],
      "text/plain": [
       "            Ethereum\n",
       "Date                \n",
       "2019-01-01    139.61\n",
       "2019-01-02    152.95\n",
       "2019-01-03    146.94\n",
       "2019-01-04    152.86\n",
       "2019-01-05    153.49"
      ]
     },
     "execution_count": 59,
     "metadata": {},
     "output_type": "execute_result"
    }
   ],
   "source": [
    "ethereum.head()"
   ]
  },
  {
   "cell_type": "markdown",
   "id": "d297e2f8-9e5e-464e-83c9-d741d6e7bfe6",
   "metadata": {},
   "source": [
    "## Dados do dólar"
   ]
  },
  {
   "cell_type": "code",
   "execution_count": 61,
   "id": "01b7161e-181d-45b9-97fe-77e51c913dba",
   "metadata": {},
   "outputs": [
    {
     "name": "stdout",
     "output_type": "stream",
     "text": [
      "[*********************100%***********************]  1 of 1 completed\n"
     ]
    }
   ],
   "source": [
    "dolar = yf.download('USDBRL=X', start=inicio)"
   ]
  },
  {
   "cell_type": "code",
   "execution_count": 62,
   "id": "b72ae46f-f8dc-4bb2-b7fe-9cff90800471",
   "metadata": {},
   "outputs": [
    {
     "data": {
      "text/html": [
       "<div>\n",
       "<style scoped>\n",
       "    .dataframe tbody tr th:only-of-type {\n",
       "        vertical-align: middle;\n",
       "    }\n",
       "\n",
       "    .dataframe tbody tr th {\n",
       "        vertical-align: top;\n",
       "    }\n",
       "\n",
       "    .dataframe thead th {\n",
       "        text-align: right;\n",
       "    }\n",
       "</style>\n",
       "<table border=\"1\" class=\"dataframe\">\n",
       "  <thead>\n",
       "    <tr style=\"text-align: right;\">\n",
       "      <th></th>\n",
       "      <th>Open</th>\n",
       "      <th>High</th>\n",
       "      <th>Low</th>\n",
       "      <th>Close</th>\n",
       "      <th>Adj Close</th>\n",
       "      <th>Volume</th>\n",
       "    </tr>\n",
       "    <tr>\n",
       "      <th>Date</th>\n",
       "      <th></th>\n",
       "      <th></th>\n",
       "      <th></th>\n",
       "      <th></th>\n",
       "      <th></th>\n",
       "      <th></th>\n",
       "    </tr>\n",
       "  </thead>\n",
       "  <tbody>\n",
       "    <tr>\n",
       "      <th>2019-01-01</th>\n",
       "      <td>3.8800</td>\n",
       "      <td>3.8800</td>\n",
       "      <td>3.8799</td>\n",
       "      <td>3.8800</td>\n",
       "      <td>3.8800</td>\n",
       "      <td>0</td>\n",
       "    </tr>\n",
       "    <tr>\n",
       "      <th>2019-01-02</th>\n",
       "      <td>3.8799</td>\n",
       "      <td>3.8959</td>\n",
       "      <td>3.8043</td>\n",
       "      <td>3.8799</td>\n",
       "      <td>3.8799</td>\n",
       "      <td>0</td>\n",
       "    </tr>\n",
       "    <tr>\n",
       "      <th>2019-01-03</th>\n",
       "      <td>3.7866</td>\n",
       "      <td>3.8047</td>\n",
       "      <td>3.7377</td>\n",
       "      <td>3.7863</td>\n",
       "      <td>3.7863</td>\n",
       "      <td>0</td>\n",
       "    </tr>\n",
       "    <tr>\n",
       "      <th>2019-01-04</th>\n",
       "      <td>3.7550</td>\n",
       "      <td>3.7836</td>\n",
       "      <td>3.7115</td>\n",
       "      <td>3.7551</td>\n",
       "      <td>3.7551</td>\n",
       "      <td>0</td>\n",
       "    </tr>\n",
       "    <tr>\n",
       "      <th>2019-01-07</th>\n",
       "      <td>3.7137</td>\n",
       "      <td>3.7229</td>\n",
       "      <td>3.6906</td>\n",
       "      <td>3.6612</td>\n",
       "      <td>3.6612</td>\n",
       "      <td>0</td>\n",
       "    </tr>\n",
       "  </tbody>\n",
       "</table>\n",
       "</div>"
      ],
      "text/plain": [
       "              Open    High     Low   Close  Adj Close  Volume\n",
       "Date                                                         \n",
       "2019-01-01  3.8800  3.8800  3.8799  3.8800     3.8800       0\n",
       "2019-01-02  3.8799  3.8959  3.8043  3.8799     3.8799       0\n",
       "2019-01-03  3.7866  3.8047  3.7377  3.7863     3.7863       0\n",
       "2019-01-04  3.7550  3.7836  3.7115  3.7551     3.7551       0\n",
       "2019-01-07  3.7137  3.7229  3.6906  3.6612     3.6612       0"
      ]
     },
     "execution_count": 62,
     "metadata": {},
     "output_type": "execute_result"
    }
   ],
   "source": [
    "dolar.head()"
   ]
  },
  {
   "cell_type": "code",
   "execution_count": 63,
   "id": "ae886cab-e050-475a-93a5-8fb4747791b7",
   "metadata": {},
   "outputs": [],
   "source": [
    "dolar = pd.DataFrame(dolar.Close).rename(columns = {'Close': 'Dolar'})"
   ]
  },
  {
   "cell_type": "code",
   "execution_count": 65,
   "id": "22260fb3-c5de-4269-89e1-a5f7776b5643",
   "metadata": {},
   "outputs": [
    {
     "data": {
      "text/html": [
       "<div>\n",
       "<style scoped>\n",
       "    .dataframe tbody tr th:only-of-type {\n",
       "        vertical-align: middle;\n",
       "    }\n",
       "\n",
       "    .dataframe tbody tr th {\n",
       "        vertical-align: top;\n",
       "    }\n",
       "\n",
       "    .dataframe thead th {\n",
       "        text-align: right;\n",
       "    }\n",
       "</style>\n",
       "<table border=\"1\" class=\"dataframe\">\n",
       "  <thead>\n",
       "    <tr style=\"text-align: right;\">\n",
       "      <th></th>\n",
       "      <th>Dolar</th>\n",
       "    </tr>\n",
       "    <tr>\n",
       "      <th>Date</th>\n",
       "      <th></th>\n",
       "    </tr>\n",
       "  </thead>\n",
       "  <tbody>\n",
       "    <tr>\n",
       "      <th>2019-01-01</th>\n",
       "      <td>3.8800</td>\n",
       "    </tr>\n",
       "    <tr>\n",
       "      <th>2019-01-02</th>\n",
       "      <td>3.8799</td>\n",
       "    </tr>\n",
       "    <tr>\n",
       "      <th>2019-01-03</th>\n",
       "      <td>3.7863</td>\n",
       "    </tr>\n",
       "    <tr>\n",
       "      <th>2019-01-04</th>\n",
       "      <td>3.7551</td>\n",
       "    </tr>\n",
       "    <tr>\n",
       "      <th>2019-01-07</th>\n",
       "      <td>3.6612</td>\n",
       "    </tr>\n",
       "  </tbody>\n",
       "</table>\n",
       "</div>"
      ],
      "text/plain": [
       "             Dolar\n",
       "Date              \n",
       "2019-01-01  3.8800\n",
       "2019-01-02  3.8799\n",
       "2019-01-03  3.7863\n",
       "2019-01-04  3.7551\n",
       "2019-01-07  3.6612"
      ]
     },
     "execution_count": 65,
     "metadata": {},
     "output_type": "execute_result"
    }
   ],
   "source": [
    "dolar.head()"
   ]
  },
  {
   "cell_type": "markdown",
   "id": "bd071257-4e5d-4e59-969b-74204c061225",
   "metadata": {},
   "source": [
    "## Juntando em apenas um DataFrame"
   ]
  },
  {
   "cell_type": "code",
   "execution_count": 82,
   "id": "cf8fdb07-28e7-4690-9881-1b5a70123c69",
   "metadata": {},
   "outputs": [],
   "source": [
    "dfs = [precos_acoes, precos_ativos, ibov, cafe, bitcoin, ethereum, dolar]"
   ]
  },
  {
   "cell_type": "code",
   "execution_count": 83,
   "id": "7d3b56fa-7cf1-4ba0-8657-5e38700221be",
   "metadata": {},
   "outputs": [],
   "source": [
    "df_final = reduce(lambda left,right: pd.merge(left, right, on= 'Date'), dfs)"
   ]
  },
  {
   "cell_type": "code",
   "execution_count": 84,
   "id": "11d1a656-7398-4df2-a8ed-bddd9833a336",
   "metadata": {},
   "outputs": [
    {
     "data": {
      "text/html": [
       "<div>\n",
       "<style scoped>\n",
       "    .dataframe tbody tr th:only-of-type {\n",
       "        vertical-align: middle;\n",
       "    }\n",
       "\n",
       "    .dataframe tbody tr th {\n",
       "        vertical-align: top;\n",
       "    }\n",
       "\n",
       "    .dataframe thead th {\n",
       "        text-align: right;\n",
       "    }\n",
       "</style>\n",
       "<table border=\"1\" class=\"dataframe\">\n",
       "  <thead>\n",
       "    <tr style=\"text-align: right;\">\n",
       "      <th></th>\n",
       "      <th>PETR4.SA</th>\n",
       "      <th>WEGE3.SA</th>\n",
       "      <th>MGLU3.SA</th>\n",
       "      <th>VALE3.SA</th>\n",
       "      <th>BPAC11.SA</th>\n",
       "      <th>KNRI11.SA</th>\n",
       "      <th>ONEF11.SA</th>\n",
       "      <th>HCTR11.SA</th>\n",
       "      <th>HGLG11.SA</th>\n",
       "      <th>HGBS11.SA</th>\n",
       "      <th>IVVB11.SA</th>\n",
       "      <th>AAPL34.SA</th>\n",
       "      <th>IBOV</th>\n",
       "      <th>Cafe</th>\n",
       "      <th>Bitcoin</th>\n",
       "      <th>Ethereum</th>\n",
       "      <th>Dolar</th>\n",
       "    </tr>\n",
       "    <tr>\n",
       "      <th>Date</th>\n",
       "      <th></th>\n",
       "      <th></th>\n",
       "      <th></th>\n",
       "      <th></th>\n",
       "      <th></th>\n",
       "      <th></th>\n",
       "      <th></th>\n",
       "      <th></th>\n",
       "      <th></th>\n",
       "      <th></th>\n",
       "      <th></th>\n",
       "      <th></th>\n",
       "      <th></th>\n",
       "      <th></th>\n",
       "      <th></th>\n",
       "      <th></th>\n",
       "      <th></th>\n",
       "    </tr>\n",
       "  </thead>\n",
       "  <tbody>\n",
       "    <tr>\n",
       "      <th>2019-01-02</th>\n",
       "      <td>21.260366</td>\n",
       "      <td>8.693207</td>\n",
       "      <td>5.641579</td>\n",
       "      <td>44.829338</td>\n",
       "      <td>5.837516</td>\n",
       "      <td>148.669998</td>\n",
       "      <td>149.000000</td>\n",
       "      <td>NaN</td>\n",
       "      <td>140.899994</td>\n",
       "      <td>237.399994</td>\n",
       "      <td>74.25</td>\n",
       "      <td>14.678836</td>\n",
       "      <td>91012.0</td>\n",
       "      <td>121.45</td>\n",
       "      <td>3873.8</td>\n",
       "      <td>152.95</td>\n",
       "      <td>3.8799</td>\n",
       "    </tr>\n",
       "    <tr>\n",
       "      <th>2019-01-03</th>\n",
       "      <td>21.781713</td>\n",
       "      <td>8.891438</td>\n",
       "      <td>5.581216</td>\n",
       "      <td>42.995453</td>\n",
       "      <td>6.078988</td>\n",
       "      <td>150.279999</td>\n",
       "      <td>149.000000</td>\n",
       "      <td>NaN</td>\n",
       "      <td>140.949997</td>\n",
       "      <td>237.699997</td>\n",
       "      <td>NaN</td>\n",
       "      <td>13.072694</td>\n",
       "      <td>91564.0</td>\n",
       "      <td>124.95</td>\n",
       "      <td>3780.1</td>\n",
       "      <td>146.94</td>\n",
       "      <td>3.7863</td>\n",
       "    </tr>\n",
       "    <tr>\n",
       "      <th>2019-01-04</th>\n",
       "      <td>21.843567</td>\n",
       "      <td>8.992972</td>\n",
       "      <td>5.411354</td>\n",
       "      <td>45.794544</td>\n",
       "      <td>6.294671</td>\n",
       "      <td>150.399994</td>\n",
       "      <td>148.820007</td>\n",
       "      <td>NaN</td>\n",
       "      <td>140.250000</td>\n",
       "      <td>237.479996</td>\n",
       "      <td>NaN</td>\n",
       "      <td>13.281661</td>\n",
       "      <td>91841.0</td>\n",
       "      <td>124.20</td>\n",
       "      <td>3802.7</td>\n",
       "      <td>152.86</td>\n",
       "      <td>3.7551</td>\n",
       "    </tr>\n",
       "    <tr>\n",
       "      <th>2019-01-07</th>\n",
       "      <td>22.188189</td>\n",
       "      <td>8.852759</td>\n",
       "      <td>5.495374</td>\n",
       "      <td>45.548859</td>\n",
       "      <td>6.423611</td>\n",
       "      <td>149.470001</td>\n",
       "      <td>144.000000</td>\n",
       "      <td>NaN</td>\n",
       "      <td>141.500000</td>\n",
       "      <td>238.500000</td>\n",
       "      <td>NaN</td>\n",
       "      <td>13.254933</td>\n",
       "      <td>91699.0</td>\n",
       "      <td>124.35</td>\n",
       "      <td>3985.9</td>\n",
       "      <td>149.96</td>\n",
       "      <td>3.6612</td>\n",
       "    </tr>\n",
       "    <tr>\n",
       "      <th>2019-01-08</th>\n",
       "      <td>22.055641</td>\n",
       "      <td>8.780235</td>\n",
       "      <td>5.451088</td>\n",
       "      <td>45.987583</td>\n",
       "      <td>6.303992</td>\n",
       "      <td>149.690002</td>\n",
       "      <td>140.009995</td>\n",
       "      <td>NaN</td>\n",
       "      <td>142.000000</td>\n",
       "      <td>240.000000</td>\n",
       "      <td>NaN</td>\n",
       "      <td>13.653433</td>\n",
       "      <td>92032.0</td>\n",
       "      <td>127.40</td>\n",
       "      <td>3971.0</td>\n",
       "      <td>148.41</td>\n",
       "      <td>3.7341</td>\n",
       "    </tr>\n",
       "  </tbody>\n",
       "</table>\n",
       "</div>"
      ],
      "text/plain": [
       "             PETR4.SA  WEGE3.SA  MGLU3.SA   VALE3.SA  BPAC11.SA   KNRI11.SA  \\\n",
       "Date                                                                          \n",
       "2019-01-02  21.260366  8.693207  5.641579  44.829338   5.837516  148.669998   \n",
       "2019-01-03  21.781713  8.891438  5.581216  42.995453   6.078988  150.279999   \n",
       "2019-01-04  21.843567  8.992972  5.411354  45.794544   6.294671  150.399994   \n",
       "2019-01-07  22.188189  8.852759  5.495374  45.548859   6.423611  149.470001   \n",
       "2019-01-08  22.055641  8.780235  5.451088  45.987583   6.303992  149.690002   \n",
       "\n",
       "             ONEF11.SA  HCTR11.SA   HGLG11.SA   HGBS11.SA  IVVB11.SA  \\\n",
       "Date                                                                   \n",
       "2019-01-02  149.000000        NaN  140.899994  237.399994      74.25   \n",
       "2019-01-03  149.000000        NaN  140.949997  237.699997        NaN   \n",
       "2019-01-04  148.820007        NaN  140.250000  237.479996        NaN   \n",
       "2019-01-07  144.000000        NaN  141.500000  238.500000        NaN   \n",
       "2019-01-08  140.009995        NaN  142.000000  240.000000        NaN   \n",
       "\n",
       "            AAPL34.SA     IBOV    Cafe  Bitcoin  Ethereum   Dolar  \n",
       "Date                                                               \n",
       "2019-01-02  14.678836  91012.0  121.45   3873.8    152.95  3.8799  \n",
       "2019-01-03  13.072694  91564.0  124.95   3780.1    146.94  3.7863  \n",
       "2019-01-04  13.281661  91841.0  124.20   3802.7    152.86  3.7551  \n",
       "2019-01-07  13.254933  91699.0  124.35   3985.9    149.96  3.6612  \n",
       "2019-01-08  13.653433  92032.0  127.40   3971.0    148.41  3.7341  "
      ]
     },
     "execution_count": 84,
     "metadata": {},
     "output_type": "execute_result"
    }
   ],
   "source": [
    "df_final.head()"
   ]
  },
  {
   "cell_type": "markdown",
   "id": "37862096-b496-4c02-99f4-cde758ff13b2",
   "metadata": {},
   "source": [
    "## Matriz de correlação"
   ]
  },
  {
   "cell_type": "code",
   "execution_count": 88,
   "id": "a4e2f73b-d6d0-4071-ba80-a6b7a6b254a2",
   "metadata": {},
   "outputs": [
    {
     "data": {
      "text/plain": [
       "<AxesSubplot:>"
      ]
     },
     "execution_count": 88,
     "metadata": {},
     "output_type": "execute_result"
    },
    {
     "data": {
      "image/png": "[encoded data removed]",
      "text/plain": [
       "<Figure size 1152x576 with 2 Axes>"
      ]
     },
     "metadata": {
      "needs_background": "light"
     },
     "output_type": "display_data"
    }
   ],
   "source": [
    "plt.figure(figsize = (16,8))\n",
    "sns.heatmap(df_final.corr(), vmin = -1, vmax = 1, annot = True, cmap = 'BrBG')"
   ]
  }
 ],
 "metadata": {
  "kernelspec": {
   "display_name": "Python 3",
   "language": "python",
   "name": "python3"
  },
  "language_info": {
   "codemirror_mode": {
    "name": "ipython",
    "version": 3
   },
   "file_extension": ".py",
   "mimetype": "text/x-python",
   "name": "python",
   "nbconvert_exporter": "python",
   "pygments_lexer": "ipython3",
   "version": "3.8.8"
  }
 },
 "nbformat": 4,
 "nbformat_minor": 5
}
